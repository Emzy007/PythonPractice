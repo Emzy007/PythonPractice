{
  "nbformat": 4,
  "nbformat_minor": 0,
  "metadata": {
    "colab": {
      "provenance": [],
      "authorship_tag": "ABX9TyPzeud5TSs89htel8DY/e4A",
      "include_colab_link": true
    },
    "kernelspec": {
      "name": "python3",
      "display_name": "Python 3"
    },
    "language_info": {
      "name": "python"
    }
  },
  "cells": [
    {
      "cell_type": "markdown",
      "metadata": {
        "id": "view-in-github",
        "colab_type": "text"
      },
      "source": [
        "<a href=\"https://colab.research.google.com/github/Emzy007/PythonPractice/blob/main/LearnOpenpyxl.ipynb\" target=\"_parent\"><img src=\"https://colab.research.google.com/assets/colab-badge.svg\" alt=\"Open In Colab\"/></a>"
      ]
    },
    {
      "cell_type": "markdown",
      "source": [
        "# Understanding openpyxl"
      ],
      "metadata": {
        "id": "78ReJDYdPys6"
      }
    },
    {
      "cell_type": "code",
      "execution_count": 4,
      "metadata": {
        "id": "TbQi37KLwLC8"
      },
      "outputs": [],
      "source": [
        "import os\n",
        "#from openpyxl import Workbook\n",
        "import openpyxl as xl"
      ]
    },
    {
      "cell_type": "code",
      "source": [
        "# Print the current working directory\n",
        "print(os.getcwd())\n",
        "print(\"git\")"
      ],
      "metadata": {
        "colab": {
          "base_uri": "https://localhost:8080/"
        },
        "id": "tMvnx6xgrphn",
        "outputId": "7a3a971a-f770-4075-b97d-372bca114f01"
      },
      "execution_count": 5,
      "outputs": [
        {
          "output_type": "stream",
          "name": "stdout",
          "text": [
            "/content\n",
            "git\n"
          ]
        }
      ]
    },
    {
      "cell_type": "code",
      "source": [
        "'''\n",
        "# Create a new workbook\n",
        "new_wb = xl.Workbook()\n",
        "\n",
        "# Create the first sheet\n",
        "ws1 = new_wb.active\n",
        "# By default the workbook will have 1 worksheet so renaming the default worksheet\n",
        "ws1.title = \"Sheet1\"\n",
        "\n",
        "# Create the second sheet\n",
        "ws2 = new_wb.create_sheet(\"Sheet2\")\n",
        "\n",
        "# Save the workbook as an xlsx file\n",
        "fname = input('Enter the file name: ')\n",
        "if os.path.exists(f'/content/{fname}'):\n",
        "  print(\"File exists! Unable to save!\")\n",
        "else:\n",
        "  new_wb.save(fname)\n",
        "  print(f\"File saved as {fname}!\")\n",
        "  '''"
      ],
      "metadata": {
        "id": "R0_R61mIsBpW"
      },
      "execution_count": null,
      "outputs": []
    },
    {
      "cell_type": "markdown",
      "source": [
        "Download or create a new Excel file"
      ],
      "metadata": {
        "id": "v9gpOJglGK7C"
      }
    },
    {
      "cell_type": "code",
      "source": [
        "\n",
        "# Dowloading a sample Excel file from internet\n",
        "\n",
        "import os\n",
        "import six.moves.urllib.request\n",
        "\n",
        "url = \"https://go.microsoft.com/fwlink/?LinkID=521962\"\n",
        "filename = os.path.basename(url)\n",
        "\n",
        "six.moves.urllib.request.urlretrieve(url, filename)\n"
      ],
      "metadata": {
        "id": "TcASS4jSGO4e",
        "colab": {
          "base_uri": "https://localhost:8080/"
        },
        "outputId": "f0da70f9-26f3-417c-bbce-fd4266124831"
      },
      "execution_count": 7,
      "outputs": [
        {
          "output_type": "execute_result",
          "data": {
            "text/plain": [
              "('?LinkID=521962', <http.client.HTTPMessage at 0x79d0b1b31510>)"
            ]
          },
          "metadata": {},
          "execution_count": 7
        }
      ]
    },
    {
      "cell_type": "code",
      "source": [
        "wb = xl.load_workbook('samplefile.xlsx')\n",
        "print('Type of wb:', type(wb))\n",
        "print('Active worksheet object :', wb.active)\n",
        "print('Worksheet names :', wb.sheetnames)\n",
        "print('Worksheet objetcs :', wb.worksheets)\n",
        "ws = wb['Sheet1']\n",
        "print('Type of ws:', type(ws))"
      ],
      "metadata": {
        "colab": {
          "base_uri": "https://localhost:8080/"
        },
        "id": "SK4lEe6OwcNm",
        "outputId": "e8862b78-f836-4858-cd0c-b25c32c8e574"
      },
      "execution_count": 9,
      "outputs": [
        {
          "output_type": "stream",
          "name": "stdout",
          "text": [
            "Type of wb: <class 'openpyxl.workbook.workbook.Workbook'>\n",
            "Active worksheet object : <Worksheet \"Sheet1\">\n",
            "Worksheet names : ['Sheet1']\n",
            "Worksheet objetcs : [<Worksheet \"Sheet1\">]\n",
            "Type of ws: <class 'openpyxl.worksheet.worksheet.Worksheet'>\n"
          ]
        }
      ]
    },
    {
      "cell_type": "code",
      "source": [
        "# Enter random numbers in cells\n",
        "'''\n",
        "import random\n",
        "for i in range(1,999):\n",
        "  ws[f'A{i}'] = random.randint(100, 999)\n",
        "  ws[f'B{i}'] = random.randint(100, 999)\n",
        "'''"
      ],
      "metadata": {
        "id": "wSPxdbseBHRS"
      },
      "execution_count": null,
      "outputs": []
    },
    {
      "cell_type": "code",
      "source": [
        "#Accessing cells\n",
        "cellA1 = ws.cell(1,1)\n",
        "cellB1 = ws['B1']\n",
        "cellC1 = ws['C1']\n",
        "\n",
        "#Accesing cell contents\n",
        "print(f'A1 = {cellA1.value}\\nB1 = {cellB1.value}\\nC1 = {cellC1.value}')\n",
        "\n",
        "#Accessing using row or column tuple - This will print entire sheet. <<WARNING\n",
        "print(\"Accessing cell values row-wise :\\n\")\n",
        "all_rows = tuple(ws.rows)\n",
        "for rows in all_rows:\n",
        "    for col in rows:\n",
        "        print(col.value, end=' ')\n",
        "    print()\n",
        "print(\"Accessing cell values column-wise :\\n\")\n",
        "all_columns = tuple(ws.columns)\n",
        "for cols in all_columns:\n",
        "    for row in cols:\n",
        "        print(row.value, end=' ')\n",
        "    print()"
      ],
      "metadata": {
        "id": "DEgoX3MUxyrS"
      },
      "execution_count": null,
      "outputs": []
    },
    {
      "cell_type": "code",
      "source": [
        "#Getting max rows and cols\n",
        "print(\"Total rows: \",ws.max_row)\n",
        "print(\"Total columns: \",ws.max_column)\n",
        "#Print headers\n",
        "cells = ws['A$1':'Z$1']\n",
        "for row in cells:\n",
        "  for col in row:\n",
        "    if col.value!= None:\n",
        "      print(col.value, end=' || ')\n",
        "  print()"
      ],
      "metadata": {
        "colab": {
          "base_uri": "https://localhost:8080/"
        },
        "id": "p_nHCPfyE6eq",
        "outputId": "262d533a-bb06-45d8-bd2d-266e87163f37"
      },
      "execution_count": 34,
      "outputs": [
        {
          "output_type": "stream",
          "name": "stdout",
          "text": [
            "Total rows:  701\n",
            "Total columns:  26\n",
            "Segment || Country || Product || Discount Band || Units Sold || Manufacturing Price || Sale Price || Gross Sales || Discounts ||  Sales || COGS || Profit || Date || Month Number || Month Name || Year || \n"
          ]
        }
      ]
    },
    {
      "cell_type": "code",
      "source": [
        "print(\"Accessing cell values row-wise :\\n\")\n",
        "all_rows = tuple(ws.rows)\n",
        "for rows in all_rows:\n",
        "    for col in rows:\n",
        "        print(col.value, end=' ')\n",
        "    print()\n",
        "print(\"Accessing cell values column-wise :\\n\")\n",
        "all_columns = tuple(ws.columns)\n",
        "for cols in all_columns:\n",
        "    for row in cols:\n",
        "        print(row.value, end=' ')\n",
        "    print()"
      ],
      "metadata": {
        "id": "bl93PMegE6VQ"
      },
      "execution_count": null,
      "outputs": []
    },
    {
      "cell_type": "code",
      "source": [
        "#Access entire column or rows\n",
        "for row in ws[2]:\n",
        "    print(row.value, end=' ')\n",
        "\n",
        "print(\"Entire column B:\")\n",
        "for col in ws['B']:\n",
        "    print(col.value)"
      ],
      "metadata": {
        "id": "l6CcoQi9DUCF"
      },
      "execution_count": null,
      "outputs": []
    },
    {
      "cell_type": "code",
      "source": [
        "# Create a new sheet in existing workbook samplefile.xlsx\n",
        "\n",
        "# Create a new sheet\n",
        "new_sheet = wb.create_sheet(\"emp\")\n",
        "\n",
        "# Save the workbook\n",
        "wb.save(\"samplefile.xlsx\")\n",
        "print('Worksheet names :', wb.sheetnames)\n",
        "\n",
        "#Selecting newly creating worksheet\n",
        "ws = wb['emp']"
      ],
      "metadata": {
        "id": "x6vZJDI-vG13",
        "outputId": "9ac070e2-cce5-4596-9ec0-5350f3d5154e",
        "colab": {
          "base_uri": "https://localhost:8080/"
        }
      },
      "execution_count": 35,
      "outputs": [
        {
          "output_type": "stream",
          "name": "stdout",
          "text": [
            "Worksheet names : ['Sheet1', 'emp']\n"
          ]
        }
      ]
    },
    {
      "cell_type": "code",
      "source": [],
      "metadata": {
        "id": "RCOFlo_Xz5nh"
      },
      "execution_count": null,
      "outputs": []
    }
  ]
}