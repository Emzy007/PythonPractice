{
 "cells": [
  {
   "cell_type": "code",
   "execution_count": 1,
   "metadata": {},
   "outputs": [
    {
     "name": "stderr",
     "output_type": "stream",
     "text": [
      "24/06/26 11:35:59 WARN Utils: Your hostname, codespaces-1c53e2 resolves to a loopback address: 127.0.0.1; using 172.16.5.4 instead (on interface eth0)\n",
      "24/06/26 11:35:59 WARN Utils: Set SPARK_LOCAL_IP if you need to bind to another address\n",
      "Setting default log level to \"WARN\".\n",
      "To adjust logging level use sc.setLogLevel(newLevel). For SparkR, use setLogLevel(newLevel).\n",
      "24/06/26 11:36:00 WARN NativeCodeLoader: Unable to load native-hadoop library for your platform... using builtin-java classes where applicable\n"
     ]
    },
    {
     "name": "stderr",
     "output_type": "stream",
     "text": [
      "24/06/26 11:36:15 WARN GarbageCollectionMetrics: To enable non-built-in garbage collector(s) List(G1 Concurrent GC), users should configure it(them) to spark.eventLog.gcMetrics.youngGenerationGarbageCollectors or spark.eventLog.gcMetrics.oldGenerationGarbageCollectors\n"
     ]
    }
   ],
   "source": [
    "import findspark\n",
    "findspark.init()\n",
    "import pyspark\n",
    "sc = pyspark.SparkContext(appName='Pi')"
   ]
  },
  {
   "cell_type": "code",
   "execution_count": 3,
   "metadata": {},
   "outputs": [],
   "source": [
    "#Create an RDD with 3 partitions\n",
    "intrdd = sc.parallelize(range(10,91),3)"
   ]
  },
  {
   "cell_type": "code",
   "execution_count": 5,
   "metadata": {},
   "outputs": [],
   "source": [
    "#Apply map partition to fetch the first element of each partition\n",
    "def function(list):\n",
    "    yield next(iter(list))"
   ]
  },
  {
   "cell_type": "code",
   "execution_count": 6,
   "metadata": {},
   "outputs": [
    {
     "name": "stderr",
     "output_type": "stream",
     "text": [
      "                                                                                \r"
     ]
    },
    {
     "data": {
      "text/plain": [
       "[10, 37, 64]"
      ]
     },
     "execution_count": 6,
     "metadata": {},
     "output_type": "execute_result"
    }
   ],
   "source": [
    "#Action statement - collect()\n",
    "intrdd.mapPartitions(function).collect()"
   ]
  },
  {
   "cell_type": "code",
   "execution_count": 7,
   "metadata": {},
   "outputs": [
    {
     "name": "stdout",
     "output_type": "stream",
     "text": [
      "1234567890, IN\n",
      "0987654321, CH\n",
      "3456127800, UK\n",
      "5689091267, IR\n"
     ]
    }
   ],
   "source": [
    "#Union()\n",
    "rdd1 = sc.parallelize([\"1234567890, IN\", \"0987654321, CH\"])\n",
    "rdd2 = sc.parallelize([\"3456127800, UK\", \"5689091267, IR\"])\n",
    "rdd3 = rdd1.union(rdd2)\n",
    "for data in rdd3.collect():\n",
    "    print(data)"
   ]
  },
  {
   "cell_type": "code",
   "execution_count": 8,
   "metadata": {},
   "outputs": [
    {
     "name": "stderr",
     "output_type": "stream",
     "text": [
      "[Stage 2:>                                                          (0 + 1) / 1]\r"
     ]
    },
    {
     "name": "stdout",
     "output_type": "stream",
     "text": [
      "(987654321, ' CH')\n",
      "(1234567890, ' IN')\n",
      "(3456127800, ' UK')\n",
      "(5689091267, ' IR')\n"
     ]
    },
    {
     "name": "stderr",
     "output_type": "stream",
     "text": [
      "                                                                                \r"
     ]
    }
   ],
   "source": [
    "#Sort by key:\n",
    "\n",
    "#Create a paired RDD\n",
    "pairedrdd = rdd3.map(lambda record: (int(record.split(\",\")[0]),record.split(\",\")[1]))\n",
    "sorteddata = pairedrdd.sortByKey(True, numPartitions=1)\n",
    "for data in sorteddata.collect():\n",
    "    print(data)\n",
    "\n"
   ]
  },
  {
   "cell_type": "code",
   "execution_count": 7,
   "metadata": {},
   "outputs": [
    {
     "name": "stdout",
     "output_type": "stream",
     "text": [
      "3:45:00\n"
     ]
    },
    {
     "name": "stderr",
     "output_type": "stream",
     "text": [
      "24/06/25 12:14:28 WARN GarbageCollectionMetrics: To enable non-built-in garbage collector(s) List(G1 Concurrent GC), users should configure it(them) to spark.eventLog.gcMetrics.youngGenerationGarbageCollectors or spark.eventLog.gcMetrics.oldGenerationGarbageCollectors\n"
     ]
    }
   ],
   "source": [
    "from datetime import datetime as dt\n",
    "delta = dt.strptime(\"15:30:00\",\"%H:%M:%S\") - dt.strptime(\"11:45:00\",\"%H:%M:%S\")\n",
    "print(delta)"
   ]
  },
  {
   "cell_type": "code",
   "execution_count": 9,
   "metadata": {},
   "outputs": [
    {
     "name": "stdout",
     "output_type": "stream",
     "text": [
      "('PHY', 85)\n",
      "('CSC', 95)\n",
      "('MAT', 75)\n"
     ]
    }
   ],
   "source": [
    "#Using mapvalues()\n",
    "score_rdd = sc.parallelize([\"PHY, 80\",\"CSC, 90\",\"MAT, 70\"])\n",
    "#Create a paired RDD\n",
    "paired_score_rdd = score_rdd.map(lambda x:(x.split(\",\")[0], int(x.split(\",\")[1])))\n",
    "#Apply map values\n",
    "result_rdd = paired_score_rdd.mapValues(lambda score: score+5)\n",
    "for scores in result_rdd.collect():\n",
    "    print(scores)"
   ]
  },
  {
   "cell_type": "markdown",
   "metadata": {},
   "source": []
  },
  {
   "cell_type": "code",
   "execution_count": 10,
   "metadata": {},
   "outputs": [
    {
     "name": "stdout",
     "output_type": "stream",
     "text": [
      "PHY\tCSC\tMAT\t\n",
      "80\t90\t70\t"
     ]
    }
   ],
   "source": [
    "y=paired_score_rdd.keys()\n",
    "z=paired_score_rdd.values()\n",
    "for k in y.collect():\n",
    "    print(k,end=\"\\t\")\n",
    "print()\n",
    "for v in z.collect():\n",
    "    print(v, end=\"\\t\")"
   ]
  },
  {
   "cell_type": "code",
   "execution_count": 11,
   "metadata": {},
   "outputs": [],
   "source": [
    "from collections import namedtuple\n",
    "RouterLocation = namedtuple('RouterLocation', ['rid','name','location'])\n",
    "RouterPurchase = namedtuple('RouterPurchase', ['rid', 'date', 'pmem','smem','cost'])"
   ]
  },
  {
   "cell_type": "code",
   "execution_count": null,
   "metadata": {},
   "outputs": [],
   "source": []
  }
 ],
 "metadata": {
  "kernelspec": {
   "display_name": "Python 3",
   "language": "python",
   "name": "python3"
  },
  "language_info": {
   "codemirror_mode": {
    "name": "ipython",
    "version": 3
   },
   "file_extension": ".py",
   "mimetype": "text/x-python",
   "name": "python",
   "nbconvert_exporter": "python",
   "pygments_lexer": "ipython3",
   "version": "3.10.13"
  }
 },
 "nbformat": 4,
 "nbformat_minor": 2
}
