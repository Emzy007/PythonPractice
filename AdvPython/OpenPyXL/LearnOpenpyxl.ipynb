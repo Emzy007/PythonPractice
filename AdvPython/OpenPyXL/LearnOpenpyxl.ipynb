{
  "cells": [
    {
      "cell_type": "markdown",
      "metadata": {
        "colab_type": "text",
        "id": "view-in-github"
      },
      "source": [
        "<a href=\"https://colab.research.google.com/github/Emzy007/PythonPractice/blob/main/LearnOpenpyxl.ipynb\" target=\"_parent\"><img src=\"https://colab.research.google.com/assets/colab-badge.svg\" alt=\"Open In Colab\"/></a>"
      ]
    },
    {
      "cell_type": "markdown",
      "metadata": {
        "id": "78ReJDYdPys6"
      },
      "source": [
        "# Understanding openpyxl"
      ]
    },
    {
      "cell_type": "code",
      "execution_count": 2,
      "metadata": {
        "id": "TbQi37KLwLC8"
      },
      "outputs": [],
      "source": [
        "import os\n",
        "#from openpyxl import Workbook\n",
        "import openpyxl as xl"
      ]
    },
    {
      "cell_type": "code",
      "execution_count": 3,
      "metadata": {
        "colab": {
          "base_uri": "https://localhost:8080/"
        },
        "id": "tMvnx6xgrphn",
        "outputId": "64de37f9-889d-4232-f12c-ac6cfaa9af51"
      },
      "outputs": [
        {
          "name": "stdout",
          "output_type": "stream",
          "text": [
            "/workspaces/PythonPractice/AdvPython/OpenPyXL\n",
            "git\n"
          ]
        }
      ],
      "source": [
        "# Print the current working directory\n",
        "print(os.getcwd())\n",
        "print(\"git\")"
      ]
    },
    {
      "cell_type": "code",
      "execution_count": null,
      "metadata": {
        "id": "R0_R61mIsBpW"
      },
      "outputs": [],
      "source": [
        "'''\n",
        "# Create a new workbook\n",
        "new_wb = xl.Workbook()\n",
        "\n",
        "# Create the first sheet\n",
        "ws1 = new_wb.active\n",
        "# By default the workbook will have 1 worksheet so renaming the default worksheet\n",
        "ws1.title = \"Sheet1\"\n",
        "\n",
        "# Create the second sheet\n",
        "ws2 = new_wb.create_sheet(\"Sheet2\")\n",
        "\n",
        "# Save the workbook as an xlsx file\n",
        "fname = input('Enter the file name: ')\n",
        "if os.path.exists(f'/content/{fname}'):\n",
        "  print(\"File exists! Unable to save!\")\n",
        "else:\n",
        "  new_wb.save(fname)\n",
        "  print(f\"File saved as {fname}!\")\n",
        "  '''"
      ]
    },
    {
      "cell_type": "markdown",
      "metadata": {
        "id": "v9gpOJglGK7C"
      },
      "source": [
        "Download or create a new Excel file"
      ]
    },
    {
      "cell_type": "code",
      "execution_count": 7,
      "metadata": {
        "colab": {
          "base_uri": "https://localhost:8080/"
        },
        "id": "TcASS4jSGO4e",
        "outputId": "f0da70f9-26f3-417c-bbce-fd4266124831"
      },
      "outputs": [
        {
          "data": {
            "text/plain": [
              "('?LinkID=521962', <http.client.HTTPMessage at 0x79d0b1b31510>)"
            ]
          },
          "execution_count": 7,
          "metadata": {},
          "output_type": "execute_result"
        }
      ],
      "source": [
        "'''\n",
        "# Dowloading a sample Excel file from internet\n",
        "\n",
        "import os\n",
        "import six.moves.urllib.request\n",
        "\n",
        "url = \"https://go.microsoft.com/fwlink/?LinkID=521962\"\n",
        "filename = os.path.basename(url)\n",
        "\n",
        "six.moves.urllib.request.urlretrieve(url, filename)\n",
        "'''"
      ]
    },
    {
      "cell_type": "code",
      "execution_count": 71,
      "metadata": {
        "colab": {
          "base_uri": "https://localhost:8080/"
        },
        "id": "SK4lEe6OwcNm",
        "outputId": "b9a9afca-99f0-4155-f2d9-c760dff0a17a"
      },
      "outputs": [
        {
          "name": "stdout",
          "output_type": "stream",
          "text": [
            "Type of wb: <class 'openpyxl.workbook.workbook.Workbook'>\n",
            "Active worksheet object : <Worksheet \"Sheet1\">\n",
            "Worksheet names : ['Sheet1', 'emp', 'emp1']\n",
            "Worksheet objetcs : [<Worksheet \"Sheet1\">, <Worksheet \"emp\">, <Worksheet \"emp1\">]\n",
            "Type of ws: <class 'openpyxl.worksheet.worksheet.Worksheet'>\n"
          ]
        }
      ],
      "source": [
        "wb = xl.load_workbook('samplefile.xlsx')\n",
        "print('Type of wb:', type(wb))\n",
        "print('Active worksheet object :', wb.active)\n",
        "print('Worksheet names :', wb.sheetnames)\n",
        "print('Worksheet objetcs :', wb.worksheets)\n",
        "ws = wb['Sheet1']\n",
        "print('Type of ws:', type(ws))"
      ]
    },
    {
      "cell_type": "code",
      "execution_count": null,
      "metadata": {
        "id": "wSPxdbseBHRS"
      },
      "outputs": [],
      "source": [
        "# Enter random numbers in cells\n",
        "'''\n",
        "import random\n",
        "for i in range(1,999):\n",
        "  ws[f'A{i}'] = random.randint(100, 999)\n",
        "  ws[f'B{i}'] = random.randint(100, 999)\n",
        "'''"
      ]
    },
    {
      "cell_type": "code",
      "execution_count": null,
      "metadata": {
        "id": "DEgoX3MUxyrS"
      },
      "outputs": [],
      "source": [
        "#Accessing cells\n",
        "cellA1 = ws.cell(1,1)\n",
        "cellB1 = ws['B1']\n",
        "cellC1 = ws['C1']\n",
        "\n",
        "#Accesing cell contents\n",
        "print(f'A1 = {cellA1.value}\\nB1 = {cellB1.value}\\nC1 = {cellC1.value}')\n",
        "\n",
        "#Accessing using row or column tuple - This will print entire sheet. <<WARNING\n",
        "print(\"Accessing cell values row-wise :\\n\")\n",
        "all_rows = tuple(ws.rows)\n",
        "for rows in all_rows:\n",
        "    for col in rows:\n",
        "        print(col.value, end=' ')\n",
        "    print()\n",
        "print(\"Accessing cell values column-wise :\\n\")\n",
        "all_columns = tuple(ws.columns)\n",
        "for cols in all_columns:\n",
        "    for row in cols:\n",
        "        print(row.value, end=' ')\n",
        "    print()"
      ]
    },
    {
      "cell_type": "code",
      "execution_count": 34,
      "metadata": {
        "colab": {
          "base_uri": "https://localhost:8080/"
        },
        "id": "p_nHCPfyE6eq",
        "outputId": "262d533a-bb06-45d8-bd2d-266e87163f37"
      },
      "outputs": [
        {
          "name": "stdout",
          "output_type": "stream",
          "text": [
            "Total rows:  701\n",
            "Total columns:  26\n",
            "Segment || Country || Product || Discount Band || Units Sold || Manufacturing Price || Sale Price || Gross Sales || Discounts ||  Sales || COGS || Profit || Date || Month Number || Month Name || Year || \n"
          ]
        }
      ],
      "source": [
        "#Getting max rows and cols\n",
        "print(\"Total rows: \",ws.max_row)\n",
        "print(\"Total columns: \",ws.max_column)\n",
        "#Print headers\n",
        "cells = ws['A$1':'Z$1']\n",
        "for row in cells:\n",
        "  for col in row:\n",
        "    if col.value!= None:\n",
        "      print(col.value, end=' || ')\n",
        "  print()"
      ]
    },
    {
      "cell_type": "code",
      "execution_count": null,
      "metadata": {
        "id": "bl93PMegE6VQ"
      },
      "outputs": [],
      "source": [
        "print(\"Accessing cell values row-wise :\\n\")\n",
        "all_rows = tuple(ws.rows)\n",
        "for rows in all_rows:\n",
        "    for col in rows:\n",
        "        print(col.value, end=' ')\n",
        "    print()\n",
        "print(\"Accessing cell values column-wise :\\n\")\n",
        "all_columns = tuple(ws.columns)\n",
        "for cols in all_columns:\n",
        "    for row in cols:\n",
        "        print(row.value, end=' ')\n",
        "    print()"
      ]
    },
    {
      "cell_type": "code",
      "execution_count": null,
      "metadata": {
        "id": "l6CcoQi9DUCF"
      },
      "outputs": [],
      "source": [
        "#Access entire column or rows\n",
        "for row in ws[2]:\n",
        "    print(row.value, end=' ')\n",
        "\n",
        "print(\"Entire column B:\")\n",
        "for col in ws['A']:\n",
        "    print(col.value)"
      ]
    },
    {
      "cell_type": "code",
      "execution_count": 47,
      "metadata": {
        "colab": {
          "base_uri": "https://localhost:8080/"
        },
        "id": "x6vZJDI-vG13",
        "outputId": "cd55b79a-e941-4b7e-99cc-3530a1a5cff4"
      },
      "outputs": [
        {
          "name": "stdout",
          "output_type": "stream",
          "text": [
            "Worksheet names : ['Sheet1', 'emp', 'emp1']\n"
          ]
        }
      ],
      "source": [
        "# Create a new sheet in existing workbook samplefile.xlsx\n",
        "\n",
        "# Create a new sheet\n",
        "new_sheet = wb.create_sheet(\"emp\")\n",
        "\n",
        "# Save the workbook\n",
        "wb.save(\"samplefile.xlsx\")\n",
        "print('Worksheet names :', wb.sheetnames)\n",
        "\n",
        "#Selecting newly creating worksheet\n",
        "ws = wb['emp']"
      ]
    },
    {
      "cell_type": "markdown",
      "metadata": {
        "id": "N1VkSWjsVZpr"
      },
      "source": [
        "Enter data in emp sheet"
      ]
    },
    {
      "cell_type": "code",
      "execution_count": 49,
      "metadata": {
        "id": "RCOFlo_Xz5nh"
      },
      "outputs": [],
      "source": [
        "'''\n",
        "ws = wb['emp']\n",
        "\n",
        "ws['B1'] = 'EmpName'\n",
        "ws['B2'] = 'Ramesh'\n",
        "ws['B3'] = 'Rakesh'\n",
        "ws['B4'] = 'John'\n",
        "ws['B5'] = 'Sara'\n",
        "ws['B6'] = 'Sash'\n",
        "\n",
        "ws['C1'] = 'Salary'\n",
        "ws['C2'] = 22001\n",
        "ws['C3'] = 26501\n",
        "ws['C4'] = 15000\n",
        "ws['C5'] = 30590\n",
        "ws['C6'] = 45000\n",
        "\n",
        "ws['D1'] = 'Dept'\n",
        "ws['D2'] = 'ETA'\n",
        "ws['D3'] = 'LEX'\n",
        "ws['D4'] = 'IAP'\n",
        "ws['D5'] = 'ETA'\n",
        "ws['D6'] = 'LEX'\n",
        "\n",
        "wb.save('samplefile.xlsx')\n",
        "'''"
      ]
    },
    {
      "cell_type": "markdown",
      "metadata": {
        "id": "U-U1tu9yMJc1"
      },
      "source": [
        "**Printing in Tabular format**"
      ]
    },
    {
      "cell_type": "code",
      "execution_count": 77,
      "metadata": {
        "colab": {
          "base_uri": "https://localhost:8080/"
        },
        "id": "VwDjc1RpEs4w",
        "outputId": "89abaae7-71eb-4d19-cf6a-797115e00942"
      },
      "outputs": [
        {
          "name": "stdout",
          "output_type": "stream",
          "text": [
            "EmpID\tEmpName\tSalary\tDept\t\n",
            "1\tRamesh\t22001\tETA\t\n",
            "2\tRakesh\t26501\tLEX\t\n",
            "3\tJohn\t15000\tIAP\t\n",
            "4\tSara\t30590\tETA\t\n",
            "5\tSash\t45000\tLEX\t\n",
            "6\tPayal\t10000\tNone\t\n",
            "7\tDavid\t10000\tNone\t\n"
          ]
        }
      ],
      "source": [
        "ws = wb['emp']\n",
        "all_rows = tuple(ws.rows)\n",
        "for rows in all_rows:\n",
        "    for col in rows:\n",
        "        print(col.value, end='\\t')\n",
        "    print()"
      ]
    },
    {
      "cell_type": "markdown",
      "metadata": {
        "id": "tcQ59zQeNJgf"
      },
      "source": [
        "**Retrieve the details of the employee whose EmpID=3**"
      ]
    },
    {
      "cell_type": "code",
      "execution_count": 67,
      "metadata": {
        "colab": {
          "base_uri": "https://localhost:8080/"
        },
        "id": "cRcvo0JvJBo0",
        "outputId": "32e2c6ad-8440-4098-fddc-6df90e9b6cd5"
      },
      "outputs": [
        {
          "name": "stdout",
          "output_type": "stream",
          "text": [
            "3 John 15000 IAP "
          ]
        }
      ],
      "source": [
        "emp_id_to_match = 3\n",
        "flag = 0\n",
        "for row in range(2, ws.max_row+1):\n",
        "    if ws.cell(row,1).value == emp_id_to_match:\n",
        "        cells = ws[row]\n",
        "        flag = 1\n",
        "        break\n",
        "if flag:\n",
        "    for cell in cells:\n",
        "        print(cell.value, end=' ')\n",
        "else:\n",
        "    print('Employee detail does not exist')"
      ]
    },
    {
      "cell_type": "markdown",
      "metadata": {
        "id": "BRyJnX1DPi2B"
      },
      "source": [
        "**Retrieve the employees whose Dept='ETA'**"
      ]
    },
    {
      "cell_type": "code",
      "execution_count": 74,
      "metadata": {
        "colab": {
          "base_uri": "https://localhost:8080/"
        },
        "id": "YvO_rBYuM_ak",
        "outputId": "a54b8e90-420d-4af2-99bd-64f31d8ddf31"
      },
      "outputs": [
        {
          "name": "stdout",
          "output_type": "stream",
          "text": [
            "Ramesh\n",
            "Sara\n"
          ]
        }
      ],
      "source": [
        "# prompt: retrieve the employees who Dept='ETA'\n",
        "\n",
        "ws = wb['emp']\n",
        "dept_to_match = 'ETA'\n",
        "cells=[]\n",
        "for col in range(1, ws.max_column+1):\n",
        "    if ws.cell(1, col).value == 'Dept':\n",
        "        for row in range(2, ws.max_row+1):\n",
        "             if ws.cell(row, col).value == dept_to_match :\n",
        "                cells.append(ws['B' + str(row)].value)\n",
        "        break\n",
        "if cells:\n",
        "    for cell in cells:\n",
        "        print(cell)\n",
        "else:\n",
        "    print('No Employees exist in ' + dept_to_match  + ' department')"
      ]
    },
    {
      "cell_type": "markdown",
      "metadata": {
        "id": "L2U--krbZ97Q"
      },
      "source": [
        "**Append rows to a sheet**"
      ]
    },
    {
      "cell_type": "code",
      "execution_count": 80,
      "metadata": {
        "colab": {
          "base_uri": "https://localhost:8080/"
        },
        "id": "s0HQJpCRQA2r",
        "outputId": "7dfad17c-6f2f-45b9-d92f-fb76308785eb"
      },
      "outputs": [
        {
          "name": "stdout",
          "output_type": "stream",
          "text": [
            "EmpID\tEmpName\tSalary\tDept\t\n",
            "1\tRamesh\t22001\tETA\t\n",
            "2\tRakesh\t26501\tLEX\t\n",
            "3\tJohn\t15000\tIAP\t\n",
            "4\tSara\t30590\tETA\t\n",
            "5\tSash\t45000\tLEX\t\n",
            "6\tPayal\t10000\tNone\t\n",
            "7\tDavid\t10000\tNone\t\n",
            "6\tPayal\t10000\tNone\t\n",
            "7\tDavid\t10000\tNone\t\n"
          ]
        }
      ],
      "source": [
        "ws = wb['emp']\n",
        "#Add as a list\n",
        "ws.append([6,'Payal',10000])\n",
        "#Adding as a tuple\n",
        "ws.append((7,'David',10000))\n",
        "wb.save('samplefile.xlsx')\n",
        "\n",
        "#validating the entries\n",
        "ws = wb['emp']\n",
        "all_rows = tuple(ws.rows)\n",
        "for rows in all_rows:\n",
        "    for col in rows:\n",
        "        print(col.value, end='\\t')\n",
        "    print()"
      ]
    },
    {
      "cell_type": "code",
      "execution_count": 79,
      "metadata": {
        "colab": {
          "base_uri": "https://localhost:8080/"
        },
        "id": "zsVY5b-4TMsi",
        "outputId": "31e884bd-54d5-42cb-e08d-6d5b442cf0ca"
      },
      "outputs": [
        {
          "name": "stdout",
          "output_type": "stream",
          "text": [
            "EmpID\tEmpName\tSalary\tDept\t\n",
            "1\tRamesh\t22001\tETA\t\n",
            "2\tRakesh\t26501\tLEX\t\n",
            "3\tJohn\t15000\tIAP\t\n",
            "4\tSara\t30590\tETA\t\n",
            "5\tSash\t45000\tLEX\t\n",
            "6\tPayal\t10000\tNone\t\n",
            "7\tDavid\t10000\tNone\t\n"
          ]
        }
      ],
      "source": [
        "#Accessing through cell traversal"
      ]
    },
    {
      "cell_type": "code",
      "execution_count": null,
      "metadata": {
        "id": "Lu2zIMDwbChx"
      },
      "outputs": [],
      "source": [
        "#Using openpyxl delete_rows()\n",
        "import openpyxl as xl\n",
        "wb=xl.load_workbook(r'employees.xlsx')\n",
        "ws.xb['Emp']\n",
        "id_to_be_deleted = 2\n",
        "for row_num in range(2,ws.max_rows+1):\n",
        "    if ws.cell(row_num).value == id_to_be_deleted:\n",
        "        ws.delete_rows(row_num,1)"
      ]
    },
    {
      "cell_type": "code",
      "execution_count": null,
      "metadata": {},
      "outputs": [],
      "source": []
    }
  ],
  "metadata": {
    "colab": {
      "authorship_tag": "ABX9TyNS943fIeZaIvlaoPONUgEs",
      "include_colab_link": true,
      "provenance": []
    },
    "kernelspec": {
      "display_name": "Python 3",
      "name": "python3"
    },
    "language_info": {
      "codemirror_mode": {
        "name": "ipython",
        "version": 3
      },
      "file_extension": ".py",
      "mimetype": "text/x-python",
      "name": "python",
      "nbconvert_exporter": "python",
      "pygments_lexer": "ipython3",
      "version": "3.10.13"
    }
  },
  "nbformat": 4,
  "nbformat_minor": 0
}
