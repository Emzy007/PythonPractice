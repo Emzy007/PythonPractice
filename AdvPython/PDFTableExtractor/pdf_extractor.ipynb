{
 "cells": [
  {
   "cell_type": "code",
   "execution_count": 1,
   "metadata": {},
   "outputs": [],
   "source": [
    "import fitz  # PyMuPDF"
   ]
  },
  {
   "cell_type": "code",
   "execution_count": null,
   "metadata": {},
   "outputs": [],
   "source": [
    "\n",
    "def extract_text_from_pdf(pdf_path):\n",
    "    # Open the PDF file\n",
    "    document = fitz.open(pdf_path)\n",
    "    # Initialize an empty string to hold the extracted text\n",
    "    extracted_text = \"\"\n",
    "    # Iterate through each page\n",
    "    for page_num in range(len(document)):\n",
    "        # Get the page object\n",
    "        page = document.load_page(page_num)\n",
    "        # Extract text from the current page\n",
    "        extracted_text += page.get_text()\n",
    "    return extracted_text\n",
    "\n",
    "# Specify the path to your PDF file\n",
    "pdf_path = '/workspaces/PythonPractice/AdvPython/PDFTableExtractor/OOPS-Python.pdf'\n",
    "\n",
    "# Extract the text from the PDF\n",
    "text = extract_text_from_pdf(pdf_path)\n",
    "\n",
    "# Print the extracted text\n",
    "print(text)"
   ]
  },
  {
   "cell_type": "code",
   "execution_count": 10,
   "metadata": {},
   "outputs": [],
   "source": [
    "with open('PDFinTXT.txt','a') as f:\n",
    "    for page_num in range(len(document)-2):\n",
    "        page = document.load_page(page_num)\n",
    "        f.write(page.get_text())\n",
    "f.close()"
   ]
  },
  {
   "cell_type": "code",
   "execution_count": null,
   "metadata": {},
   "outputs": [],
   "source": []
  }
 ],
 "metadata": {
  "kernelspec": {
   "display_name": "Python 3",
   "language": "python",
   "name": "python3"
  },
  "language_info": {
   "codemirror_mode": {
    "name": "ipython",
    "version": 3
   },
   "file_extension": ".py",
   "mimetype": "text/x-python",
   "name": "python",
   "nbconvert_exporter": "python",
   "pygments_lexer": "ipython3",
   "version": "3.10.13"
  }
 },
 "nbformat": 4,
 "nbformat_minor": 2
}
