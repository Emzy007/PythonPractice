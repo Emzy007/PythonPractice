{
 "cells": [
  {
   "cell_type": "code",
   "execution_count": 2,
   "metadata": {},
   "outputs": [
    {
     "name": "stdout",
     "output_type": "stream",
     "text": [
      "table.pdf\n"
     ]
    },
    {
     "data": {
      "text/plain": [
       "('table.pdf', <http.client.HTTPMessage at 0x754cc2ea5b70>)"
      ]
     },
     "execution_count": 2,
     "metadata": {},
     "output_type": "execute_result"
    }
   ],
   "source": []
  },
  {
   "cell_type": "code",
   "execution_count": 5,
   "metadata": {},
   "outputs": [
    {
     "ename": "AttributeError",
     "evalue": "module 'tabula' has no attribute 'table'",
     "output_type": "error",
     "traceback": [
      "\u001b[0;31m---------------------------------------------------------------------------\u001b[0m",
      "\u001b[0;31mAttributeError\u001b[0m                            Traceback (most recent call last)",
      "Cell \u001b[0;32mIn[5], line 16\u001b[0m\n\u001b[1;32m     13\u001b[0m page \u001b[38;5;241m=\u001b[39m pdf_reader\u001b[38;5;241m.\u001b[39mpages\n\u001b[1;32m     15\u001b[0m \u001b[38;5;66;03m# Extract the tables from the page\u001b[39;00m\n\u001b[0;32m---> 16\u001b[0m tables \u001b[38;5;241m=\u001b[39m \u001b[43mtabula\u001b[49m\u001b[38;5;241;43m.\u001b[39;49m\u001b[43mtable\u001b[49m()\n\u001b[1;32m     18\u001b[0m \u001b[38;5;66;03m# Print the tables\u001b[39;00m\n\u001b[1;32m     19\u001b[0m \u001b[38;5;28;01mfor\u001b[39;00m table \u001b[38;5;129;01min\u001b[39;00m tables:\n",
      "\u001b[0;31mAttributeError\u001b[0m: module 'tabula' has no attribute 'table'"
     ]
    }
   ],
   "source": [
    "# prompt: detect tables in a pdf\n",
    "\n",
    "import PyPDF2\n",
    "import tabula\n",
    "\n",
    "# Open the PDF file in binary mode\n",
    "with open(\"table.pdf\", \"rb\") as f:\n",
    "    # Read the PDF file\n",
    "    pdf_reader = PyPDF2.PdfReader(f)\n",
    "\n",
    "    # Get the first page of the PDF file\n",
    "    #page = pdf_reader.getPage(0)\n",
    "    page = pdf_reader.pages\n",
    "\n",
    "    # Extract the tables from the page\n",
    "    tables = tabula.table()\n",
    "\n",
    "    # Print the tables\n",
    "    for table in tables:\n",
    "        print(table)\n",
    "f.close()"
   ]
  },
  {
   "cell_type": "code",
   "execution_count": null,
   "metadata": {},
   "outputs": [],
   "source": []
  }
 ],
 "metadata": {
  "kernelspec": {
   "display_name": "Python 3",
   "language": "python",
   "name": "python3"
  },
  "language_info": {
   "codemirror_mode": {
    "name": "ipython",
    "version": 3
   },
   "file_extension": ".py",
   "mimetype": "text/x-python",
   "name": "python",
   "nbconvert_exporter": "python",
   "pygments_lexer": "ipython3",
   "version": "3.10.13"
  }
 },
 "nbformat": 4,
 "nbformat_minor": 2
}
