{
 "cells": [
  {
   "cell_type": "code",
   "execution_count": 3,
   "metadata": {},
   "outputs": [],
   "source": [
    "import fitz  # PyMuPDF"
   ]
  },
  {
   "cell_type": "code",
   "execution_count": 4,
   "metadata": {},
   "outputs": [
    {
     "name": "stdout",
     "output_type": "stream",
     "text": [
      "Example table \n",
      "This is an example of a data table. \n",
      "Disability \n",
      "Category \n",
      "Participants \n",
      "Ballots \n",
      "Completed \n",
      "Ballots \n",
      "Incomplete/ \n",
      "Terminated \n",
      "Results \n",
      "Accuracy \n",
      "Time to \n",
      "complete \n",
      "Blind \n",
      "5 \n",
      "1 \n",
      "4 \n",
      "34.5%, n=1 \n",
      "1199 sec, n=1 \n",
      "Low Vision \n",
      "5 \n",
      "2 \n",
      "3 \n",
      "98.3% n=2 \n",
      "(97.7%, n=3) \n",
      "1716 sec, n=3 \n",
      "(1934 sec, n=2) \n",
      "Dexterity \n",
      "5 \n",
      "4 \n",
      "1 \n",
      "98.3%, n=4 \n",
      "1672.1 sec, n=4 \n",
      "Mobility \n",
      "3 \n",
      "3 \n",
      "0 \n",
      "95.4%, n=3 \n",
      "1416 sec, n=3 \n",
      " \n",
      "\n"
     ]
    }
   ],
   "source": [
    "\n",
    "def extract_text_from_pdf(pdf_path):\n",
    "    # Open the PDF file\n",
    "    document = fitz.open(pdf_path)\n",
    "    # Initialize an empty string to hold the extracted text\n",
    "    extracted_text = \"\"\n",
    "    # Iterate through each page\n",
    "    for page_num in range(len(document)):\n",
    "        # Get the page object\n",
    "        page = document.load_page(page_num)\n",
    "        # Extract text from the current page\n",
    "        extracted_text += page.get_text()\n",
    "    return extracted_text\n",
    "\n",
    "# Specify the path to your PDF file\n",
    "pdf_path = '/workspaces/PythonPractice/AdvPython/PDFTableExtractor/table.pdf'\n",
    "\n",
    "# Extract the text from the PDF\n",
    "text = extract_text_from_pdf(pdf_path)\n",
    "\n",
    "# Print the extracted text\n",
    "print(text)"
   ]
  },
  {
   "cell_type": "code",
   "execution_count": null,
   "metadata": {},
   "outputs": [],
   "source": []
  }
 ],
 "metadata": {
  "kernelspec": {
   "display_name": "Python 3",
   "language": "python",
   "name": "python3"
  },
  "language_info": {
   "codemirror_mode": {
    "name": "ipython",
    "version": 3
   },
   "file_extension": ".py",
   "mimetype": "text/x-python",
   "name": "python",
   "nbconvert_exporter": "python",
   "pygments_lexer": "ipython3",
   "version": "3.10.13"
  }
 },
 "nbformat": 4,
 "nbformat_minor": 2
}
