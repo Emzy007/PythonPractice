{
 "cells": [
  {
   "cell_type": "code",
   "execution_count": 1,
   "metadata": {},
   "outputs": [],
   "source": [
    "import csv"
   ]
  },
  {
   "cell_type": "code",
   "execution_count": 28,
   "metadata": {},
   "outputs": [],
   "source": [
    "def write_csv(fileloc):\n",
    "    with open(fileloc,'w',newline='') as csvwriter:\n",
    "        fields = ['ID','NAME','AGE','GENDER']\n",
    "        writer = csv.DictWriter(csvwriter,fields)\n",
    "        writer.writeheader()\n",
    "        writer.writerow({'ID':'1','NAME':'James','AGE':20,'GENDER':'M'})\n",
    "        writer.writerow({'ID':'2','NAME':'Katey','AGE':10,'GENDER':'F'})\n",
    "        writer.writerow({'ID':'3','NAME':'Kiran','AGE':40,'GENDER':'M'})\n",
    "        writer.writerow({'ID':'4','NAME':'Sana','AGE':19,'GENDER':'F'})\n",
    "write_csv('persons.csv')"
   ]
  },
  {
   "cell_type": "code",
   "execution_count": 39,
   "metadata": {},
   "outputs": [
    {
     "name": "stdout",
     "output_type": "stream",
     "text": [
      "{'ID': '1', 'NAME': 'James', 'AGE': '20', 'GENDER': 'M'}\n",
      "{'ID': '2', 'NAME': 'Katey', 'AGE': '10', 'GENDER': 'F'}\n",
      "{'ID': '3', 'NAME': 'Kiran', 'AGE': '40', 'GENDER': 'M'}\n",
      "{'ID': '4', 'NAME': 'Sana', 'AGE': '19', 'GENDER': 'F'}\n",
      "{'ID': '5', 'NAME': 'Raja', 'AGE': '23', 'GENDER': 'M'}\n",
      "{'ID': '6', 'NAME': 'Sara', 'AGE': '30', 'GENDER': 'F'}\n",
      "{'ID': '7', 'NAME': 'Sash', 'AGE': '25', 'GENDER': 'M'}\n"
     ]
    }
   ],
   "source": [
    "def read_csv(fileloc):\n",
    "    with open(fileloc,'r') as csvreader:\n",
    "        fields = ['ID','NAME','AGE','GENDER']\n",
    "        reader = csv.DictReader(csvreader)\n",
    "        for records in reader:\n",
    "            print(records)\n",
    "read_csv('persons.csv')"
   ]
  },
  {
   "cell_type": "code",
   "execution_count": 21,
   "metadata": {},
   "outputs": [
    {
     "name": "stdout",
     "output_type": "stream",
     "text": [
      "{'ID': '2', 'NAME': 'Katey', 'AGE': '10', 'GENDER': 'F'}\n",
      "{'ID': '4', 'NAME': 'Sana', 'AGE': '19', 'GENDER': 'F'}\n"
     ]
    }
   ],
   "source": [
    "#Display all females\n",
    "def filter_females(fileloc):\n",
    "    with open(fileloc, 'r') as csvreader:\n",
    "        reader = csv.DictReader(csvreader)\n",
    "        for record in reader:\n",
    "            if record['GENDER'] == 'F':\n",
    "                print(record)\n",
    "filter_females('persons.csv')\n"
   ]
  },
  {
   "cell_type": "code",
   "execution_count": 30,
   "metadata": {},
   "outputs": [
    {
     "name": "stdout",
     "output_type": "stream",
     "text": [
      "{'ID': '2', 'NAME': 'Katey', 'AGE': '10', 'GENDER': 'F'}\n"
     ]
    }
   ],
   "source": [
    "#Display all the minors\n",
    "def filter_minor(fileloc):\n",
    "    with open(fileloc,'r') as csvreader:\n",
    "        reader = csv.DictReader(csvreader)\n",
    "        for record in reader:\n",
    "            if int(record['AGE']) < 18:\n",
    "                print(record)\n",
    "filter_minor('persons.csv')"
   ]
  },
  {
   "cell_type": "code",
   "execution_count": 9,
   "metadata": {},
   "outputs": [],
   "source": [
    "#Enter new data to CSV file\n",
    "def enter_data(fileloc):\n",
    "    input_data = [[11,23,'M','Raja'], [12,30,'F','Sara'], [13,25,'M','Sash']]\n",
    "    fields = ['ID','NAME','AGE','GENDER']\n",
    "    with open(fileloc,'a', newline='') as csvwriter:\n",
    "        writer = csv.DictWriter(csvwriter,fields)\n",
    "        for items in input_data:\n",
    "            writer.writerow({'ID':items[0],'NAME':items[3], 'AGE':items[1],'GENDER':items[2]})\n",
    "enter_data('persons.csv')"
   ]
  },
  {
   "cell_type": "code",
   "execution_count": 10,
   "metadata": {},
   "outputs": [
    {
     "name": "stdout",
     "output_type": "stream",
     "text": [
      "['3:Kiran:40']\n"
     ]
    }
   ],
   "source": [
    "#Checking for assignment\n",
    "file = open(r'persons copy.csv','r')\n",
    "csv_file = csv.reader(file)\n",
    "for i in csv_file:\n",
    "    header=i\n",
    "print(header[0:])\n",
    "file.close()"
   ]
  },
  {
   "cell_type": "code",
   "execution_count": null,
   "metadata": {},
   "outputs": [],
   "source": []
  }
 ],
 "metadata": {
  "kernelspec": {
   "display_name": "Python 3",
   "language": "python",
   "name": "python3"
  },
  "language_info": {
   "codemirror_mode": {
    "name": "ipython",
    "version": 3
   },
   "file_extension": ".py",
   "mimetype": "text/x-python",
   "name": "python",
   "nbconvert_exporter": "python",
   "pygments_lexer": "ipython3",
   "version": "3.10.13"
  }
 },
 "nbformat": 4,
 "nbformat_minor": 2
}
