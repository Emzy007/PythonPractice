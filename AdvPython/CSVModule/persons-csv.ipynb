{
 "cells": [
  {
   "cell_type": "code",
   "execution_count": 1,
   "metadata": {},
   "outputs": [],
   "source": [
    "import csv"
   ]
  },
  {
   "cell_type": "code",
   "execution_count": 3,
   "metadata": {},
   "outputs": [],
   "source": [
    "def write_csv(fileloc):\n",
    "    with open(fileloc,'w',newline='') as csvwriter:\n",
    "        fields = ['ID','NAME','AGE','GENDER']\n",
    "        writer = csv.DictWriter(csvwriter,fields)\n",
    "        writer.writeheader()\n",
    "        writer.writerow({'ID':'1','NAME':'James','AGE':20,'GENDER':'M'})\n",
    "        writer.writerow({'ID':'2','NAME':'Katey','AGE':10,'GENDER':'F'})\n",
    "        writer.writerow({'ID':'3','NAME':'Kiran','AGE':40,'GENDER':'M'})\n",
    "        writer.writerow({'ID':'4','NAME':'Sana','AGE':19,'GENDER':'F'})\n",
    "        csvwriter.close()\n",
    "write_csv('persons.csv')"
   ]
  },
  {
   "cell_type": "code",
   "execution_count": 6,
   "metadata": {},
   "outputs": [
    {
     "name": "stdout",
     "output_type": "stream",
     "text": [
      "{'ID': '1', 'NAME': 'James', 'AGE': '20', 'GENDER': 'M'}\n",
      "{'ID': '2', 'NAME': 'Katey', 'AGE': '10', 'GENDER': 'F'}\n",
      "{'ID': '3', 'NAME': 'Kiran', 'AGE': '40', 'GENDER': 'M'}\n",
      "{'ID': '4', 'NAME': 'Sana', 'AGE': '19', 'GENDER': 'F'}\n"
     ]
    }
   ],
   "source": [
    "def read_csv(fileloc):\n",
    "    with open(fileloc,'r') as csvreader:\n",
    "        fields = ['ID','NAME','AGE','GENDER']\n",
    "        reader = csv.DictReader(csvreader)\n",
    "        for records in reader:\n",
    "            print(records)\n",
    "    csvreader.close()\n",
    "read_csv('persons.csv')"
   ]
  },
  {
   "cell_type": "code",
   "execution_count": null,
   "metadata": {},
   "outputs": [],
   "source": []
  }
 ],
 "metadata": {
  "kernelspec": {
   "display_name": "Python 3",
   "language": "python",
   "name": "python3"
  },
  "language_info": {
   "codemirror_mode": {
    "name": "ipython",
    "version": 3
   },
   "file_extension": ".py",
   "mimetype": "text/x-python",
   "name": "python",
   "nbconvert_exporter": "python",
   "pygments_lexer": "ipython3",
   "version": "3.10.13"
  }
 },
 "nbformat": 4,
 "nbformat_minor": 2
}
