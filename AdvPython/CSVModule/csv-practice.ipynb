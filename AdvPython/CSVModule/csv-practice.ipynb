{
 "cells": [
  {
   "cell_type": "markdown",
   "metadata": {},
   "source": [
    "Reading the contents of a CSV file"
   ]
  },
  {
   "cell_type": "code",
   "execution_count": 2,
   "metadata": {},
   "outputs": [],
   "source": [
    "import csv"
   ]
  },
  {
   "cell_type": "code",
   "execution_count": null,
   "metadata": {},
   "outputs": [],
   "source": [
    "def read_csv(fileloc):\n",
    "    '''\n",
    "    Read entire CSV file\n",
    "    customers.csv contains header but customers copy.csv contains no header\n",
    "    '''\n",
    "    with open(fileloc,'r') as csvfile:\n",
    "        #Reader is an iterator object, contains records as a list\n",
    "        reader = csv.reader(csvfile)\n",
    "        for record in reader:\n",
    "            print(record)\n",
    "\n",
    "read_csv('customers.csv')"
   ]
  },
  {
   "cell_type": "markdown",
   "metadata": {},
   "source": [
    "Reading contents of a CSV file without a header\n",
    "- Pass the field names as a list argument to DictReader()"
   ]
  },
  {
   "cell_type": "code",
   "execution_count": null,
   "metadata": {},
   "outputs": [],
   "source": [
    "def read_csv_no_header(fileloc):\n",
    "    '''\n",
    "        Read a CSV file without a header using defined fields\n",
    "    '''\n",
    "    with open(fileloc, 'r') as csvfile:\n",
    "        fields = [\n",
    "            'GeographyKey', 'CustomerName', 'BirthDate', 'Mstatus', 'Gender', 'EmailAddress', 'YearlyIncome', 'Education',\n",
    "              'Occupation', 'NumberCarsOwned', 'Address', 'AddressLine1', 'PhoneNumber', 'DateFirstPurchase'\n",
    "        ]\n",
    "        reader = csv.DictReader(csvfile, fields)\n",
    "        for record in reader:\n",
    "            print(record)\n",
    "\n",
    "read_csv_no_header('customers copy.csv')"
   ]
  },
  {
   "cell_type": "markdown",
   "metadata": {},
   "source": [
    "Writing contents into CSV file"
   ]
  },
  {
   "cell_type": "code",
   "execution_count": 5,
   "metadata": {},
   "outputs": [],
   "source": [
    "def write_csv(fileloc):\n",
    "    #A new file will be created as the file does not exists\n",
    "    with open(fileloc,'w', newline='') as csvfile:\n",
    "        writer = csv.writer(csvfile)\n",
    "        writer.writerow(['EmpId','Emp Name', 'Salary'])\n",
    "        writer.writerow([1,'Ramesh',22001.00])\n",
    "        writer.writerow([2,'Rakesh',26501.00])\n",
    "write_csv('employee.csv')"
   ]
  },
  {
   "cell_type": "code",
   "execution_count": null,
   "metadata": {},
   "outputs": [],
   "source": []
  }
 ],
 "metadata": {
  "kernelspec": {
   "display_name": "Python 3",
   "language": "python",
   "name": "python3"
  },
  "language_info": {
   "codemirror_mode": {
    "name": "ipython",
    "version": 3
   },
   "file_extension": ".py",
   "mimetype": "text/x-python",
   "name": "python",
   "nbconvert_exporter": "python",
   "pygments_lexer": "ipython3",
   "version": "3.10.13"
  }
 },
 "nbformat": 4,
 "nbformat_minor": 2
}
