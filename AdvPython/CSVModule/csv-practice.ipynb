{
 "cells": [
  {
   "cell_type": "markdown",
   "metadata": {},
   "source": [
    "Reading the contents of a CSV file"
   ]
  },
  {
   "cell_type": "code",
   "execution_count": 2,
   "metadata": {},
   "outputs": [],
   "source": [
    "import csv"
   ]
  },
  {
   "cell_type": "code",
   "execution_count": 6,
   "metadata": {},
   "outputs": [
    {
     "name": "stdout",
     "output_type": "stream",
     "text": [
      "['GeographyKey', 'CustomerName', 'BirthDate', 'Mstatus', 'Gender', 'EmailAddress', 'YearlyIncome', 'Education', 'Occupation', 'NumberCarsOwned', 'Address', 'AddressLine1', 'PhoneNumber', 'DateFirstPurchase']\n",
      "['5', 'Wright A James ', '10/21/2013', 'Married', 'Male', 'james70@ymail.com', '70000', 'Bachelors', 'Professional', '1', '8478 Eastgate Ave.', '8478 Eastgate Ave.', '+7265550143', '10/21/2013']\n",
      "['6', 'Watson I Hailey ', '2/8/2013', 'Married', 'Female', 'hailey18@ymail.com', '40000', 'High School', 'Skilled Manual', '2', '9658 Guadalupe Dr.', '9658 Guadalupe Dr.', '+3335550115', '2/8/2013']\n",
      "['1', 'amirez H Bryce ', '10/30/2013', 'Married', 'Male', 'bryce6@zmail.com', '40000', 'High School', 'Skilled Manual', '3', '387 Glenside Court', '387 Glenside Court', '+7655550164', '10/30/2013']\n",
      "['6', 'Ross Kaitlyn ', '11/23/2013', 'Married', 'Female', 'kaitlyn71@ymail.com', '40000', 'High School', 'Skilled Manual', '2', '8391 Olivera', '8391 Olivera', '+6835550152', '11/23/2013']\n",
      "['6', 'Pillips Jason ', '10/6/2013', 'Married', 'Male', 'jason35@ymail.com', '40000', 'High School', 'Skilled Manual', '2', '2369 Whitehaven Dr.', '2369 Whitehaven Dr.', '+8085550157', '10/6/2013']\n",
      "['6', 'Patterson Natalie ', '11/5/2013', 'Married', 'Female', 'natalie33@ymail.com', '40000', 'High School', 'Skilled Manual', '2', '2777 Spring Hill Drive', '2777 Spring Hill Drive', '+8585550113', '11/5/2013']\n",
      "['6', 'Murphy S Eduardo ', '11/18/2013', 'Married', 'Male', 'eduardo82@ymail.com', '40000', 'High School', 'Skilled Manual', '2', '3032 Smoking Tree Court', '3032 Smoking Tree Court', '+5955550145', '11/18/2013']\n",
      "['6', 'Ward Destiny ', '12/13/2013', 'Married', 'Female', 'destiny38@ymail.com', '60000', 'Partial College', 'Skilled Manual', '1', '3935 Hawkins Street', '3935 Hawkins Street', '+1415550193', '12/13/2013']\n",
      "['6', 'Seamans Mike ', '9/11/2013', 'Single', 'Female', 'mike5@ymail.com', '40000', 'Bachelors', 'Professional', '1', '4678 Cardinal Dr.', '4678 Cardinal Dr.', '+2105550100', '9/11/2013']\n",
      "['1', 'Romero Albert ', '11/5/2013', 'Single', 'Male', 'albert11@zmail.com', '40000', 'Bachelors', 'Professional', '1', '45 Linton Terr.', '45 Linton Terr.', '+4445550178', '11/5/2013']\n"
     ]
    }
   ],
   "source": [
    "def read_csv(fileloc):\n",
    "    '''\n",
    "    Read entire CSV file\n",
    "    customers.csv contains header but customers copy.csv contains no header\n",
    "    '''\n",
    "    with open(fileloc,'r') as csvfile:\n",
    "        #Reader is an iterator object, contains records as a list\n",
    "        reader = csv.reader(csvfile)\n",
    "        for record in reader:\n",
    "            print(record)\n",
    "    csvfile.close()\n",
    "read_csv('customers.csv')"
   ]
  },
  {
   "cell_type": "markdown",
   "metadata": {},
   "source": [
    "Reading contents of a CSV file without a header\n",
    "- Pass the field names as a list argument to DictReader()"
   ]
  },
  {
   "cell_type": "code",
   "execution_count": 7,
   "metadata": {},
   "outputs": [
    {
     "name": "stdout",
     "output_type": "stream",
     "text": [
      "{'GeographyKey': '5', 'CustomerName': 'Wright A James ', 'BirthDate': '10/21/2013', 'Mstatus': 'Married', 'Gender': 'Male', 'EmailAddress': 'james70@ymail.com', 'YearlyIncome': '70000', 'Education': 'Bachelors', 'Occupation': 'Professional', 'NumberCarsOwned': '1', 'Address': '8478 Eastgate Ave.', 'AddressLine1': '8478 Eastgate Ave.', 'PhoneNumber': '+7265550143', 'DateFirstPurchase': '10/21/2013'}\n",
      "{'GeographyKey': '6', 'CustomerName': 'Watson I Hailey ', 'BirthDate': '2/8/2013', 'Mstatus': 'Married', 'Gender': 'Female', 'EmailAddress': 'hailey18@ymail.com', 'YearlyIncome': '40000', 'Education': 'High School', 'Occupation': 'Skilled Manual', 'NumberCarsOwned': '2', 'Address': '9658 Guadalupe Dr.', 'AddressLine1': '9658 Guadalupe Dr.', 'PhoneNumber': '+3335550115', 'DateFirstPurchase': '2/8/2013'}\n",
      "{'GeographyKey': '1', 'CustomerName': 'amirez H Bryce ', 'BirthDate': '10/30/2013', 'Mstatus': 'Married', 'Gender': 'Male', 'EmailAddress': 'bryce6@zmail.com', 'YearlyIncome': '40000', 'Education': 'High School', 'Occupation': 'Skilled Manual', 'NumberCarsOwned': '3', 'Address': '387 Glenside Court', 'AddressLine1': '387 Glenside Court', 'PhoneNumber': '+7655550164', 'DateFirstPurchase': '10/30/2013'}\n",
      "{'GeographyKey': '6', 'CustomerName': 'Ross Kaitlyn ', 'BirthDate': '11/23/2013', 'Mstatus': 'Married', 'Gender': 'Female', 'EmailAddress': 'kaitlyn71@ymail.com', 'YearlyIncome': '40000', 'Education': 'High School', 'Occupation': 'Skilled Manual', 'NumberCarsOwned': '2', 'Address': '8391 Olivera', 'AddressLine1': '8391 Olivera', 'PhoneNumber': '+6835550152', 'DateFirstPurchase': '11/23/2013'}\n",
      "{'GeographyKey': '6', 'CustomerName': 'Pillips Jason ', 'BirthDate': '10/6/2013', 'Mstatus': 'Married', 'Gender': 'Male', 'EmailAddress': 'jason35@ymail.com', 'YearlyIncome': '40000', 'Education': 'High School', 'Occupation': 'Skilled Manual', 'NumberCarsOwned': '2', 'Address': '2369 Whitehaven Dr.', 'AddressLine1': '2369 Whitehaven Dr.', 'PhoneNumber': '+8085550157', 'DateFirstPurchase': '10/6/2013'}\n",
      "{'GeographyKey': '6', 'CustomerName': 'Patterson Natalie ', 'BirthDate': '11/5/2013', 'Mstatus': 'Married', 'Gender': 'Female', 'EmailAddress': 'natalie33@ymail.com', 'YearlyIncome': '40000', 'Education': 'High School', 'Occupation': 'Skilled Manual', 'NumberCarsOwned': '2', 'Address': '2777 Spring Hill Drive', 'AddressLine1': '2777 Spring Hill Drive', 'PhoneNumber': '+8585550113', 'DateFirstPurchase': '11/5/2013'}\n",
      "{'GeographyKey': '6', 'CustomerName': 'Murphy S Eduardo ', 'BirthDate': '11/18/2013', 'Mstatus': 'Married', 'Gender': 'Male', 'EmailAddress': 'eduardo82@ymail.com', 'YearlyIncome': '40000', 'Education': 'High School', 'Occupation': 'Skilled Manual', 'NumberCarsOwned': '2', 'Address': '3032 Smoking Tree Court', 'AddressLine1': '3032 Smoking Tree Court', 'PhoneNumber': '+5955550145', 'DateFirstPurchase': '11/18/2013'}\n",
      "{'GeographyKey': '6', 'CustomerName': 'Ward Destiny ', 'BirthDate': '12/13/2013', 'Mstatus': 'Married', 'Gender': 'Female', 'EmailAddress': 'destiny38@ymail.com', 'YearlyIncome': '60000', 'Education': 'Partial College', 'Occupation': 'Skilled Manual', 'NumberCarsOwned': '1', 'Address': '3935 Hawkins Street', 'AddressLine1': '3935 Hawkins Street', 'PhoneNumber': '+1415550193', 'DateFirstPurchase': '12/13/2013'}\n",
      "{'GeographyKey': '6', 'CustomerName': 'Seamans Mike ', 'BirthDate': '9/11/2013', 'Mstatus': 'Single', 'Gender': 'Female', 'EmailAddress': 'mike5@ymail.com', 'YearlyIncome': '40000', 'Education': 'Bachelors', 'Occupation': 'Professional', 'NumberCarsOwned': '1', 'Address': '4678 Cardinal Dr.', 'AddressLine1': '4678 Cardinal Dr.', 'PhoneNumber': '+2105550100', 'DateFirstPurchase': '9/11/2013'}\n",
      "{'GeographyKey': '1', 'CustomerName': 'Romero Albert ', 'BirthDate': '11/5/2013', 'Mstatus': 'Single', 'Gender': 'Male', 'EmailAddress': 'albert11@zmail.com', 'YearlyIncome': '40000', 'Education': 'Bachelors', 'Occupation': 'Professional', 'NumberCarsOwned': '1', 'Address': '45 Linton Terr.', 'AddressLine1': '45 Linton Terr.', 'PhoneNumber': '+4445550178', 'DateFirstPurchase': '11/5/2013'}\n"
     ]
    }
   ],
   "source": [
    "def read_csv_no_header(fileloc):\n",
    "    '''\n",
    "        Read a CSV file without a header using defined fields\n",
    "    '''\n",
    "    with open(fileloc, 'r') as csvfile:\n",
    "        fields = [\n",
    "            'GeographyKey', 'CustomerName', 'BirthDate', 'Mstatus', 'Gender', 'EmailAddress', 'YearlyIncome', 'Education',\n",
    "              'Occupation', 'NumberCarsOwned', 'Address', 'AddressLine1', 'PhoneNumber', 'DateFirstPurchase'\n",
    "        ]\n",
    "        reader = csv.DictReader(csvfile, fields)\n",
    "        for record in reader:\n",
    "            print(record)\n",
    "    csvfile.close()\n",
    "read_csv_no_header('customers copy.csv')"
   ]
  },
  {
   "cell_type": "markdown",
   "metadata": {},
   "source": [
    "Writing contents into CSV file"
   ]
  },
  {
   "cell_type": "code",
   "execution_count": 8,
   "metadata": {},
   "outputs": [],
   "source": [
    "def write_csv(fileloc):\n",
    "    #Using writer() method. A new file will be created as the file does not exists\n",
    "    with open(fileloc,'w', newline='') as csvfile:\n",
    "        writer = csv.writer(csvfile)\n",
    "        writer.writerow(['EmpId','Emp Name', 'Salary'])\n",
    "        writer.writerow([1,'Ramesh',22001.00])\n",
    "        writer.writerow([2,'Rakesh',26501.00])\n",
    "    csvfile.close()\n",
    "write_csv('employees.csv')"
   ]
  },
  {
   "cell_type": "code",
   "execution_count": 10,
   "metadata": {},
   "outputs": [],
   "source": [
    "def write_csv_dict(fileloc):\n",
    "    #Write using Dictwriter method()\n",
    "    with open(fileloc,'w',newline='') as csvfile:\n",
    "        fields = ['EmpId', 'Emp Name', 'Salary']\n",
    "        writer = csv.DictWriter(csvfile,fields)\n",
    "        writer.writeheader() #To insert fields as header\n",
    "        writer.writerow({'EmpId':1, 'Emp Name':'Ramesh', 'Salary':22001.00}) #The dict-key must match else it throws ValueError\n",
    "        writer.writerow({'EmpId':2, 'Emp Name':'Rakesh', 'Salary':26501.00}) #In case of missing key-value pair empty value gets entered\n",
    "        csvfile.close()\n",
    "write_csv_dict('employees.csv')"
   ]
  },
  {
   "cell_type": "code",
   "execution_count": null,
   "metadata": {},
   "outputs": [],
   "source": []
  }
 ],
 "metadata": {
  "kernelspec": {
   "display_name": "Python 3",
   "language": "python",
   "name": "python3"
  },
  "language_info": {
   "codemirror_mode": {
    "name": "ipython",
    "version": 3
   },
   "file_extension": ".py",
   "mimetype": "text/x-python",
   "name": "python",
   "nbconvert_exporter": "python",
   "pygments_lexer": "ipython3",
   "version": "3.10.13"
  }
 },
 "nbformat": 4,
 "nbformat_minor": 2
}
