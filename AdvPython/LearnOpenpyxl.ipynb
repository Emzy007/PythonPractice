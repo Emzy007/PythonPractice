{
  "nbformat": 4,
  "nbformat_minor": 0,
  "metadata": {
    "colab": {
      "provenance": [],
      "authorship_tag": "ABX9TyNS943fIeZaIvlaoPONUgEs",
      "include_colab_link": true
    },
    "kernelspec": {
      "name": "python3",
      "display_name": "Python 3"
    },
    "language_info": {
      "name": "python"
    }
  },
  "cells": [
    {
      "cell_type": "markdown",
      "metadata": {
        "id": "view-in-github",
        "colab_type": "text"
      },
      "source": [
        "<a href=\"https://colab.research.google.com/github/Emzy007/PythonPractice/blob/main/LearnOpenpyxl.ipynb\" target=\"_parent\"><img src=\"https://colab.research.google.com/assets/colab-badge.svg\" alt=\"Open In Colab\"/></a>"
      ]
    },
    {
      "cell_type": "markdown",
      "source": [
        "# Understanding openpyxl"
      ],
      "metadata": {
        "id": "78ReJDYdPys6"
      }
    },
    {
      "cell_type": "code",
      "execution_count": 4,
      "metadata": {
        "id": "TbQi37KLwLC8"
      },
      "outputs": [],
      "source": [
        "import os\n",
        "#from openpyxl import Workbook\n",
        "import openpyxl as xl"
      ]
    },
    {
      "cell_type": "code",
      "source": [
        "# Print the current working directory\n",
        "print(os.getcwd())\n",
        "print(\"git\")"
      ],
      "metadata": {
        "colab": {
          "base_uri": "https://localhost:8080/"
        },
        "id": "tMvnx6xgrphn",
        "outputId": "64de37f9-889d-4232-f12c-ac6cfaa9af51"
      },
      "execution_count": 36,
      "outputs": [
        {
          "output_type": "stream",
          "name": "stdout",
          "text": [
            "/content\n",
            "git\n"
          ]
        }
      ]
    },
    {
      "cell_type": "code",
      "source": [
        "'''\n",
        "# Create a new workbook\n",
        "new_wb = xl.Workbook()\n",
        "\n",
        "# Create the first sheet\n",
        "ws1 = new_wb.active\n",
        "# By default the workbook will have 1 worksheet so renaming the default worksheet\n",
        "ws1.title = \"Sheet1\"\n",
        "\n",
        "# Create the second sheet\n",
        "ws2 = new_wb.create_sheet(\"Sheet2\")\n",
        "\n",
        "# Save the workbook as an xlsx file\n",
        "fname = input('Enter the file name: ')\n",
        "if os.path.exists(f'/content/{fname}'):\n",
        "  print(\"File exists! Unable to save!\")\n",
        "else:\n",
        "  new_wb.save(fname)\n",
        "  print(f\"File saved as {fname}!\")\n",
        "  '''"
      ],
      "metadata": {
        "id": "R0_R61mIsBpW"
      },
      "execution_count": null,
      "outputs": []
    },
    {
      "cell_type": "markdown",
      "source": [
        "Download or create a new Excel file"
      ],
      "metadata": {
        "id": "v9gpOJglGK7C"
      }
    },
    {
      "cell_type": "code",
      "source": [
        "'''\n",
        "# Dowloading a sample Excel file from internet\n",
        "\n",
        "import os\n",
        "import six.moves.urllib.request\n",
        "\n",
        "url = \"https://go.microsoft.com/fwlink/?LinkID=521962\"\n",
        "filename = os.path.basename(url)\n",
        "\n",
        "six.moves.urllib.request.urlretrieve(url, filename)\n",
        "'''"
      ],
      "metadata": {
        "id": "TcASS4jSGO4e",
        "colab": {
          "base_uri": "https://localhost:8080/"
        },
        "outputId": "f0da70f9-26f3-417c-bbce-fd4266124831"
      },
      "execution_count": 7,
      "outputs": [
        {
          "output_type": "execute_result",
          "data": {
            "text/plain": [
              "('?LinkID=521962', <http.client.HTTPMessage at 0x79d0b1b31510>)"
            ]
          },
          "metadata": {},
          "execution_count": 7
        }
      ]
    },
    {
      "cell_type": "code",
      "source": [
        "wb = xl.load_workbook('samplefile.xlsx')\n",
        "print('Type of wb:', type(wb))\n",
        "print('Active worksheet object :', wb.active)\n",
        "print('Worksheet names :', wb.sheetnames)\n",
        "print('Worksheet objetcs :', wb.worksheets)\n",
        "ws = wb['Sheet1']\n",
        "print('Type of ws:', type(ws))"
      ],
      "metadata": {
        "colab": {
          "base_uri": "https://localhost:8080/"
        },
        "id": "SK4lEe6OwcNm",
        "outputId": "b9a9afca-99f0-4155-f2d9-c760dff0a17a"
      },
      "execution_count": 71,
      "outputs": [
        {
          "output_type": "stream",
          "name": "stdout",
          "text": [
            "Type of wb: <class 'openpyxl.workbook.workbook.Workbook'>\n",
            "Active worksheet object : <Worksheet \"Sheet1\">\n",
            "Worksheet names : ['Sheet1', 'emp', 'emp1']\n",
            "Worksheet objetcs : [<Worksheet \"Sheet1\">, <Worksheet \"emp\">, <Worksheet \"emp1\">]\n",
            "Type of ws: <class 'openpyxl.worksheet.worksheet.Worksheet'>\n"
          ]
        }
      ]
    },
    {
      "cell_type": "code",
      "source": [
        "# Enter random numbers in cells\n",
        "'''\n",
        "import random\n",
        "for i in range(1,999):\n",
        "  ws[f'A{i}'] = random.randint(100, 999)\n",
        "  ws[f'B{i}'] = random.randint(100, 999)\n",
        "'''"
      ],
      "metadata": {
        "id": "wSPxdbseBHRS"
      },
      "execution_count": null,
      "outputs": []
    },
    {
      "cell_type": "code",
      "source": [
        "#Accessing cells\n",
        "cellA1 = ws.cell(1,1)\n",
        "cellB1 = ws['B1']\n",
        "cellC1 = ws['C1']\n",
        "\n",
        "#Accesing cell contents\n",
        "print(f'A1 = {cellA1.value}\\nB1 = {cellB1.value}\\nC1 = {cellC1.value}')\n",
        "\n",
        "#Accessing using row or column tuple - This will print entire sheet. <<WARNING\n",
        "print(\"Accessing cell values row-wise :\\n\")\n",
        "all_rows = tuple(ws.rows)\n",
        "for rows in all_rows:\n",
        "    for col in rows:\n",
        "        print(col.value, end=' ')\n",
        "    print()\n",
        "print(\"Accessing cell values column-wise :\\n\")\n",
        "all_columns = tuple(ws.columns)\n",
        "for cols in all_columns:\n",
        "    for row in cols:\n",
        "        print(row.value, end=' ')\n",
        "    print()"
      ],
      "metadata": {
        "id": "DEgoX3MUxyrS"
      },
      "execution_count": null,
      "outputs": []
    },
    {
      "cell_type": "code",
      "source": [
        "#Getting max rows and cols\n",
        "print(\"Total rows: \",ws.max_row)\n",
        "print(\"Total columns: \",ws.max_column)\n",
        "#Print headers\n",
        "cells = ws['A$1':'Z$1']\n",
        "for row in cells:\n",
        "  for col in row:\n",
        "    if col.value!= None:\n",
        "      print(col.value, end=' || ')\n",
        "  print()"
      ],
      "metadata": {
        "colab": {
          "base_uri": "https://localhost:8080/"
        },
        "id": "p_nHCPfyE6eq",
        "outputId": "262d533a-bb06-45d8-bd2d-266e87163f37"
      },
      "execution_count": 34,
      "outputs": [
        {
          "output_type": "stream",
          "name": "stdout",
          "text": [
            "Total rows:  701\n",
            "Total columns:  26\n",
            "Segment || Country || Product || Discount Band || Units Sold || Manufacturing Price || Sale Price || Gross Sales || Discounts ||  Sales || COGS || Profit || Date || Month Number || Month Name || Year || \n"
          ]
        }
      ]
    },
    {
      "cell_type": "code",
      "source": [
        "print(\"Accessing cell values row-wise :\\n\")\n",
        "all_rows = tuple(ws.rows)\n",
        "for rows in all_rows:\n",
        "    for col in rows:\n",
        "        print(col.value, end=' ')\n",
        "    print()\n",
        "print(\"Accessing cell values column-wise :\\n\")\n",
        "all_columns = tuple(ws.columns)\n",
        "for cols in all_columns:\n",
        "    for row in cols:\n",
        "        print(row.value, end=' ')\n",
        "    print()"
      ],
      "metadata": {
        "id": "bl93PMegE6VQ"
      },
      "execution_count": null,
      "outputs": []
    },
    {
      "cell_type": "code",
      "source": [
        "#Access entire column or rows\n",
        "for row in ws[2]:\n",
        "    print(row.value, end=' ')\n",
        "\n",
        "print(\"Entire column B:\")\n",
        "for col in ws['A']:\n",
        "    print(col.value)"
      ],
      "metadata": {
        "id": "l6CcoQi9DUCF"
      },
      "execution_count": null,
      "outputs": []
    },
    {
      "cell_type": "code",
      "source": [
        "# Create a new sheet in existing workbook samplefile.xlsx\n",
        "\n",
        "# Create a new sheet\n",
        "new_sheet = wb.create_sheet(\"emp\")\n",
        "\n",
        "# Save the workbook\n",
        "wb.save(\"samplefile.xlsx\")\n",
        "print('Worksheet names :', wb.sheetnames)\n",
        "\n",
        "#Selecting newly creating worksheet\n",
        "ws = wb['emp']"
      ],
      "metadata": {
        "colab": {
          "base_uri": "https://localhost:8080/"
        },
        "id": "x6vZJDI-vG13",
        "outputId": "cd55b79a-e941-4b7e-99cc-3530a1a5cff4"
      },
      "execution_count": 47,
      "outputs": [
        {
          "output_type": "stream",
          "name": "stdout",
          "text": [
            "Worksheet names : ['Sheet1', 'emp', 'emp1']\n"
          ]
        }
      ]
    },
    {
      "cell_type": "markdown",
      "source": [
        "Enter data in emp sheet"
      ],
      "metadata": {
        "id": "N1VkSWjsVZpr"
      }
    },
    {
      "cell_type": "code",
      "source": [
        "'''\n",
        "ws = wb['emp']\n",
        "\n",
        "ws['B1'] = 'EmpName'\n",
        "ws['B2'] = 'Ramesh'\n",
        "ws['B3'] = 'Rakesh'\n",
        "ws['B4'] = 'John'\n",
        "ws['B5'] = 'Sara'\n",
        "ws['B6'] = 'Sash'\n",
        "\n",
        "ws['C1'] = 'Salary'\n",
        "ws['C2'] = 22001\n",
        "ws['C3'] = 26501\n",
        "ws['C4'] = 15000\n",
        "ws['C5'] = 30590\n",
        "ws['C6'] = 45000\n",
        "\n",
        "ws['D1'] = 'Dept'\n",
        "ws['D2'] = 'ETA'\n",
        "ws['D3'] = 'LEX'\n",
        "ws['D4'] = 'IAP'\n",
        "ws['D5'] = 'ETA'\n",
        "ws['D6'] = 'LEX'\n",
        "\n",
        "wb.save('samplefile.xlsx')\n",
        "'''"
      ],
      "metadata": {
        "id": "RCOFlo_Xz5nh"
      },
      "execution_count": 49,
      "outputs": []
    },
    {
      "cell_type": "markdown",
      "source": [
        "**Printing in Tabular format**"
      ],
      "metadata": {
        "id": "U-U1tu9yMJc1"
      }
    },
    {
      "cell_type": "code",
      "source": [
        "ws = wb['emp']\n",
        "all_rows = tuple(ws.rows)\n",
        "for rows in all_rows:\n",
        "    for col in rows:\n",
        "        print(col.value, end='\\t')\n",
        "    print()"
      ],
      "metadata": {
        "id": "VwDjc1RpEs4w",
        "outputId": "89abaae7-71eb-4d19-cf6a-797115e00942",
        "colab": {
          "base_uri": "https://localhost:8080/"
        }
      },
      "execution_count": 77,
      "outputs": [
        {
          "output_type": "stream",
          "name": "stdout",
          "text": [
            "EmpID\tEmpName\tSalary\tDept\t\n",
            "1\tRamesh\t22001\tETA\t\n",
            "2\tRakesh\t26501\tLEX\t\n",
            "3\tJohn\t15000\tIAP\t\n",
            "4\tSara\t30590\tETA\t\n",
            "5\tSash\t45000\tLEX\t\n",
            "6\tPayal\t10000\tNone\t\n",
            "7\tDavid\t10000\tNone\t\n"
          ]
        }
      ]
    },
    {
      "cell_type": "markdown",
      "source": [
        "**Retrieve the details of the employee whose EmpID=3**"
      ],
      "metadata": {
        "id": "tcQ59zQeNJgf"
      }
    },
    {
      "cell_type": "code",
      "source": [
        "emp_id_to_match = 3\n",
        "flag = 0\n",
        "for row in range(2, ws.max_row+1):\n",
        "    if ws.cell(row,1).value == emp_id_to_match:\n",
        "        cells = ws[row]\n",
        "        flag = 1\n",
        "        break\n",
        "if flag:\n",
        "    for cell in cells:\n",
        "        print(cell.value, end=' ')\n",
        "else:\n",
        "    print('Employee detail does not exist')"
      ],
      "metadata": {
        "id": "cRcvo0JvJBo0",
        "outputId": "32e2c6ad-8440-4098-fddc-6df90e9b6cd5",
        "colab": {
          "base_uri": "https://localhost:8080/"
        }
      },
      "execution_count": 67,
      "outputs": [
        {
          "output_type": "stream",
          "name": "stdout",
          "text": [
            "3 John 15000 IAP "
          ]
        }
      ]
    },
    {
      "cell_type": "markdown",
      "source": [
        "**Retrieve the employees whose Dept='ETA'**"
      ],
      "metadata": {
        "id": "BRyJnX1DPi2B"
      }
    },
    {
      "cell_type": "code",
      "source": [
        "# prompt: retrieve the employees who Dept='ETA'\n",
        "\n",
        "ws = wb['emp']\n",
        "dept_to_match = 'ETA'\n",
        "cells=[]\n",
        "for col in range(1, ws.max_column+1):\n",
        "    if ws.cell(1, col).value == 'Dept':\n",
        "        for row in range(2, ws.max_row+1):\n",
        "             if ws.cell(row, col).value == dept_to_match :\n",
        "                cells.append(ws['B' + str(row)].value)\n",
        "        break\n",
        "if cells:\n",
        "    for cell in cells:\n",
        "        print(cell)\n",
        "else:\n",
        "    print('No Employees exist in ' + dept_to_match  + ' department')"
      ],
      "metadata": {
        "id": "YvO_rBYuM_ak",
        "outputId": "a54b8e90-420d-4af2-99bd-64f31d8ddf31",
        "colab": {
          "base_uri": "https://localhost:8080/"
        }
      },
      "execution_count": 74,
      "outputs": [
        {
          "output_type": "stream",
          "name": "stdout",
          "text": [
            "Ramesh\n",
            "Sara\n"
          ]
        }
      ]
    },
    {
      "cell_type": "markdown",
      "source": [
        "**Append rows to a sheet**"
      ],
      "metadata": {
        "id": "L2U--krbZ97Q"
      }
    },
    {
      "cell_type": "code",
      "source": [
        "ws = wb['emp']\n",
        "#Add as a list\n",
        "ws.append([6,'Payal',10000])\n",
        "#Adding as a tuple\n",
        "ws.append((7,'David',10000))\n",
        "wb.save('samplefile.xlsx')\n",
        "\n",
        "#validating the entries\n",
        "ws = wb['emp']\n",
        "all_rows = tuple(ws.rows)\n",
        "for rows in all_rows:\n",
        "    for col in rows:\n",
        "        print(col.value, end='\\t')\n",
        "    print()"
      ],
      "metadata": {
        "id": "s0HQJpCRQA2r",
        "outputId": "7dfad17c-6f2f-45b9-d92f-fb76308785eb",
        "colab": {
          "base_uri": "https://localhost:8080/"
        }
      },
      "execution_count": 80,
      "outputs": [
        {
          "output_type": "stream",
          "name": "stdout",
          "text": [
            "EmpID\tEmpName\tSalary\tDept\t\n",
            "1\tRamesh\t22001\tETA\t\n",
            "2\tRakesh\t26501\tLEX\t\n",
            "3\tJohn\t15000\tIAP\t\n",
            "4\tSara\t30590\tETA\t\n",
            "5\tSash\t45000\tLEX\t\n",
            "6\tPayal\t10000\tNone\t\n",
            "7\tDavid\t10000\tNone\t\n",
            "6\tPayal\t10000\tNone\t\n",
            "7\tDavid\t10000\tNone\t\n"
          ]
        }
      ]
    },
    {
      "cell_type": "code",
      "source": [
        "#Accessing through cell traversal"
      ],
      "metadata": {
        "id": "zsVY5b-4TMsi",
        "outputId": "31e884bd-54d5-42cb-e08d-6d5b442cf0ca",
        "colab": {
          "base_uri": "https://localhost:8080/"
        }
      },
      "execution_count": 79,
      "outputs": [
        {
          "output_type": "stream",
          "name": "stdout",
          "text": [
            "EmpID\tEmpName\tSalary\tDept\t\n",
            "1\tRamesh\t22001\tETA\t\n",
            "2\tRakesh\t26501\tLEX\t\n",
            "3\tJohn\t15000\tIAP\t\n",
            "4\tSara\t30590\tETA\t\n",
            "5\tSash\t45000\tLEX\t\n",
            "6\tPayal\t10000\tNone\t\n",
            "7\tDavid\t10000\tNone\t\n"
          ]
        }
      ]
    },
    {
      "cell_type": "code",
      "source": [],
      "metadata": {
        "id": "Lu2zIMDwbChx"
      },
      "execution_count": null,
      "outputs": []
    }
  ]
}