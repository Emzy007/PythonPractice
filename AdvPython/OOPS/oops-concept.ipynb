{
 "cells": [
  {
   "cell_type": "code",
   "execution_count": 1,
   "metadata": {},
   "outputs": [
    {
     "name": "stdout",
     "output_type": "stream",
     "text": [
      "40 - 90 = -50\n"
     ]
    }
   ],
   "source": [
    "#__add__() magic methods\n",
    "class Student:\n",
    "    def __init__(self, id, marks):\n",
    "        self.id = id\n",
    "        self.__marks = marks\n",
    "    def set_marks(self, marks):\n",
    "        self.__marks = marks\n",
    "    def get_marks(self):\n",
    "        return self.__marks\n",
    "    def __add__(self,other):\n",
    "        print(f'{other.get_marks()} - {self.get_marks()} =',(other.get_marks() - self.get_marks()))\n",
    "Student(1,90) + Student(2,40)"
   ]
  },
  {
   "cell_type": "code",
   "execution_count": null,
   "metadata": {},
   "outputs": [],
   "source": [
    "#Understanding errors in MySQL package\n",
    "import mysql.connector\n",
    "con = mysql.connector.connect(user='root',host='localhost',password='',database='travello')\n",
    "cur = con.cursor()\n",
    "cur.execute(\"select * from travello_destinations\")\n",
    "\n",
    "'''\n",
    "If the table ‘travello_destinations’ is not found in the MySQL database, you’ll encounter an error. \n",
    "Specifically, the cur.execute(\"select * from travello_destinations\") line will raise a \n",
    "mysql.connector.errors.ProgrammingError with a message indicating that the table does not exist. \n",
    "'''"
   ]
  },
  {
   "cell_type": "code",
   "execution_count": null,
   "metadata": {},
   "outputs": [],
   "source": [
    "#Using pymongo\n",
    "#Database\n",
    "#{'ID':1,'Name':'John'}\n",
    "#{'ID':2,'Name':'Kelly'}\n",
    "#{'ID':3,'Name':'Thomas'}\n",
    "#{'ID':4,'Name':'Mycroft'}\n",
    "from pymongo import MongoClient\n",
    "conn - MongoClient('mongodb://localhost:27017')\n",
    "db=conn('ETA')\n",
    "col=db['Person']\n",
    "curs=col.find({'Name':{'$regex':'^[^JKM]'}})\n",
    "for row in curs:\n",
    "    print(row)\n",
    "\n",
    "'''\n",
    "The regex will look for any word that DOES NOT STARTS with\n",
    "J, K, M\n",
    "'''"
   ]
  },
  {
   "cell_type": "code",
   "execution_count": 2,
   "metadata": {},
   "outputs": [
    {
     "name": "stdout",
     "output_type": "stream",
     "text": [
      "10 10\n"
     ]
    }
   ],
   "source": [
    "class Demo:\n",
    "    counter=10\n",
    "    def change_counter(self):\n",
    "        self.counter+=1\n",
    "obj1=Demo()\n",
    "print(Demo.counter,end=' ')\n",
    "obj1.change_counter()\n",
    "print(Demo.counter)"
   ]
  },
  {
   "cell_type": "code",
   "execution_count": null,
   "metadata": {},
   "outputs": [],
   "source": []
  }
 ],
 "metadata": {
  "kernelspec": {
   "display_name": "Python 3",
   "language": "python",
   "name": "python3"
  },
  "language_info": {
   "codemirror_mode": {
    "name": "ipython",
    "version": 3
   },
   "file_extension": ".py",
   "mimetype": "text/x-python",
   "name": "python",
   "nbconvert_exporter": "python",
   "pygments_lexer": "ipython3",
   "version": "3.10.13"
  }
 },
 "nbformat": 4,
 "nbformat_minor": 2
}
